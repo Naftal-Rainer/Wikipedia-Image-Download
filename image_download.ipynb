{
 "cells": [
  {
   "cell_type": "code",
   "execution_count": 1,
   "metadata": {},
   "outputs": [],
   "source": [
    "import wptools \n",
    "import  requests \n",
    "from PIL import Image \n",
    "from io import BytesIO #for non-text requests, like images\n",
    "import os \n",
    "import pandas as pd "
   ]
  },
  {
   "cell_type": "code",
   "execution_count": 2,
   "metadata": {},
   "outputs": [],
   "source": [
    "title_list = [\n",
    " 'The_Wizard_of_Oz_(1939_film)', 'Citizen_Kane', 'The_Third_Man', 'Get_Out_(film)', 'Mad_Max:_Fury_Road',\n",
    " 'The_Cabinet_of_Dr._Caligari', 'All_About_Eve', 'Inside_Out_(2015_film)', 'The_Godfather', 'Metropolis_(1927_film)',\n",
    " 'E.T._the_Extra-Terrestrial', 'Modern_Times_(film)', 'It_Happened_One_Night', \"Singin'_in_the_Rain\", 'Boyhood_(film)',\n",
    " 'Casablanca_(film)', 'Moonlight_(2016_film)', 'Psycho_(1960_film)', 'Laura_(1944_film)', 'Nosferatu',\n",
    " 'Snow_White_and_the_Seven_Dwarfs_(1937_film)', \"A_Hard_Day%27s_Night_(film)\", 'La_Grande_Illusion', 'North_by_Northwest',\n",
    " 'The_Battle_of_Algiers', 'Dunkirk_(2017_film)', 'The_Maltese_Falcon_(1941_film)', 'Repulsion_(film)', '12_Years_a_Slave_(film)',\n",
    " 'Gravity_(2013_film)', 'Sunset_Boulevard_(film)', 'King_Kong_(1933_film)', 'Spotlight_(film)', 'The_Adventures_of_Robin_Hood',\n",
    " 'Rashomon', 'Rear_Window', 'Selma_(film)', 'Taxi_Driver', 'Toy_Story_3', 'Argo_(2012_film)',\n",
    " 'Toy_Story_2', 'The_Big_Sick', 'Bride_of_Frankenstein', 'Zootopia', 'M_(1931_film)', 'Wonder_Woman_(2017_film)',\n",
    " 'The_Philadelphia_Story_(film)', 'Alien_(film)', 'Bicycle_Thieves', 'Seven_Samurai', 'The_Treasure_of_the_Sierra_Madre_(film)',\n",
    " 'Up_(2009_film)', '12_Angry_Men_(1957_film)', 'The_400_Blows', 'Logan_(film)', 'All_Quiet_on_the_Western_Front_(1930_film)', 'Army_of_Shadows', 'Arrival_(film)', 'Baby_Driver',\n",
    " 'A_Streetcar_Named_Desire_(1951_film)', 'The_Night_of_the_Hunter_(film)', 'Star_Wars:_The_Force_Awakens', 'Manchester_by_the_Sea_(film)', 'Dr._Strangelove', 'Frankenstein_(1931_film)',\n",
    " 'Vertigo_(film)', 'The_Dark_Knight_(film)', 'Touch_of_Evil', 'The_Babadook', 'The_Conformist_(film)', 'Rebecca_(1940_film)',\n",
    " \"Rosemary%27s_Baby_(film)\", 'Finding_Nemo', 'Brooklyn_(film)', 'The_Wrestler_(2008_film)', 'The_39_Steps_(1935_film)', 'L.A._Confidential_(film)',\n",
    " 'Gone_with_the_Wind_(film)', 'The_Good,_the_Bad_and_the_Ugly', 'Skyfall', 'Rome,_Open_City', 'Tokyo_Story', 'Hell_or_High_Water_(film)',\n",
    " 'Pinocchio_(1940_film)', 'The_Jungle_Book_(2016_film)', 'La_La_Land_(film)', 'Star_Trek_(film)', 'High_Noon',\n",
    " 'Apocalypse_Now', 'On_the_Waterfront', 'The_Wages_of_Fear', 'The_Last_Picture_Show', 'Harry_Potter_and_the_Deathly_Hallows_–_Part_2', 'The_Grapes_of_Wrath_(film)',\n",
    " 'Roman_Holiday', 'Man_on_Wire', 'Jaws_(film)', 'Toy_Story', 'The_Godfather_Part_II', 'Battleship_Potemkin'\n",
    "]\n",
    "\n"
   ]
  },
  {
   "cell_type": "code",
   "execution_count": 3,
   "metadata": {},
   "outputs": [],
   "source": [
    "folder_name = 'bestofrt_posters'\n",
    "# Make directory if it doesn't already exist\n",
    "if not os.path.exists(folder_name):\n",
    "    os.makedirs(folder_name)\n",
    " "
   ]
  },
  {
   "cell_type": "code",
   "execution_count": 5,
   "metadata": {},
   "outputs": [
    {
     "name": "stdout",
     "output_type": "stream",
     "text": [
      "1\n",
      "2\n",
      "3\n",
      "3_The_Third_Man: cannot identify image file <_io.BytesIO object at 0x000002308B673680>\n",
      "4\n",
      "5\n",
      "6\n",
      "6_The_Cabinet_of_Dr._Caligari: cannot identify image file <_io.BytesIO object at 0x000002308B680EA0>\n",
      "7\n",
      "7_All_About_Eve: cannot identify image file <_io.BytesIO object at 0x000002308C838DB0>\n",
      "8\n",
      "9\n",
      "10\n",
      "10_Metropolis_(1927_film): cannot identify image file <_io.BytesIO object at 0x000002308B6A3860>\n",
      "11\n",
      "12\n",
      "12_Modern_Times_(film): cannot identify image file <_io.BytesIO object at 0x000002308C8B1EA0>\n",
      "13\n",
      "13_It_Happened_One_Night: cannot identify image file <_io.BytesIO object at 0x000002308C6D0A90>\n",
      "14\n",
      "14_Singin'_in_the_Rain: cannot identify image file <_io.BytesIO object at 0x000002308C906270>\n",
      "15\n",
      "15_Boyhood_(film): 'image'\n",
      "16\n",
      "17\n",
      "18\n",
      "18_Psycho_(1960_film): cannot identify image file <_io.BytesIO object at 0x000002308C7E6630>\n",
      "19\n",
      "19_Laura_(1944_film): cannot identify image file <_io.BytesIO object at 0x000002308C80B2C0>\n",
      "20\n",
      "20_Nosferatu: cannot identify image file <_io.BytesIO object at 0x000002308C7E6590>\n",
      "21\n",
      "22\n"
     ]
    },
    {
     "name": "stderr",
     "output_type": "stream",
     "text": [
      "API error: {'code': 'invalidtitle', 'info': 'Bad title \"A_Hard_Day%27s_Night_(film)\".', 'docref': 'See https://en.wikipedia.org/w/api.php for API usage. Subscribe to the mediawiki-api-announce mailing list at &lt;https://lists.wikimedia.org/postorius/lists/mediawiki-api-announce.lists.wikimedia.org/&gt; for notice of API deprecations and breaking changes.'}\n"
     ]
    },
    {
     "name": "stdout",
     "output_type": "stream",
     "text": [
      "22_A_Hard_Day%27s_Night_(film): https://en.wikipedia.org/w/api.php?action=parse&formatversion=2&contentmodel=text&disableeditsection=&disablelimitreport=&disabletoc=&prop=text|iwlinks|parsetree|wikitext|displaytitle|properties&redirects&page=A_Hard_Day%2527s_Night_%28film%29\n",
      "23\n",
      "23_La_Grande_Illusion: cannot identify image file <_io.BytesIO object at 0x000002308B677B80>\n",
      "24\n",
      "24_North_by_Northwest: cannot identify image file <_io.BytesIO object at 0x000002308C7E6630>\n",
      "25\n",
      "26\n",
      "27\n",
      "27_The_Maltese_Falcon_(1941_film): cannot identify image file <_io.BytesIO object at 0x000002308A6A0B30>\n",
      "28\n",
      "29\n",
      "30\n",
      "31\n",
      "31_Sunset_Boulevard_(film): cannot identify image file <_io.BytesIO object at 0x000002308C7E62C0>\n",
      "32\n",
      "32_King_Kong_(1933_film): cannot identify image file <_io.BytesIO object at 0x000002308C7B1450>\n",
      "33\n",
      "34\n",
      "34_The_Adventures_of_Robin_Hood: cannot identify image file <_io.BytesIO object at 0x000002308C8A8E50>\n",
      "35\n",
      "35_Rashomon: cannot identify image file <_io.BytesIO object at 0x000002308C906450>\n",
      "36\n",
      "36_Rear_Window: cannot identify image file <_io.BytesIO object at 0x000002308C7D49F0>\n",
      "37\n",
      "38\n",
      "39\n",
      "40\n",
      "41\n",
      "42\n",
      "43\n",
      "43_Bride_of_Frankenstein: cannot identify image file <_io.BytesIO object at 0x000002308B69A860>\n",
      "44\n",
      "45\n",
      "45_M_(1931_film): cannot identify image file <_io.BytesIO object at 0x000002308C935310>\n",
      "46\n",
      "47\n",
      "47_The_Philadelphia_Story_(film): cannot identify image file <_io.BytesIO object at 0x000002308C7E62C0>\n",
      "48\n",
      "48_Alien_(film): cannot identify image file <_io.BytesIO object at 0x000002308C6E12C0>\n",
      "49\n",
      "50\n",
      "50_Seven_Samurai: cannot identify image file <_io.BytesIO object at 0x000002308B66A540>\n",
      "51\n",
      "51_The_Treasure_of_the_Sierra_Madre_(film): cannot identify image file <_io.BytesIO object at 0x000002308C6D0A90>\n",
      "52\n",
      "53\n",
      "53_12_Angry_Men_(1957_film): cannot identify image file <_io.BytesIO object at 0x000002308C9232C0>\n",
      "54\n",
      "54_The_400_Blows: cannot identify image file <_io.BytesIO object at 0x000002308C7D48B0>\n",
      "55\n",
      "56\n",
      "56_All_Quiet_on_the_Western_Front_(1930_film): cannot identify image file <_io.BytesIO object at 0x000002308C918F90>\n",
      "57\n",
      "58\n",
      "59\n",
      "60\n",
      "60_A_Streetcar_Named_Desire_(1951_film): cannot identify image file <_io.BytesIO object at 0x000002308B692F40>\n",
      "61\n",
      "61_The_Night_of_the_Hunter_(film): cannot identify image file <_io.BytesIO object at 0x000002308B6AFC70>\n",
      "62\n",
      "63\n",
      "64\n",
      "64_Dr._Strangelove: cannot identify image file <_io.BytesIO object at 0x000002308C880540>\n",
      "65\n",
      "65_Frankenstein_(1931_film): cannot identify image file <_io.BytesIO object at 0x000002308C892860>\n",
      "66\n",
      "66_Vertigo_(film): cannot identify image file <_io.BytesIO object at 0x000002308B677590>\n",
      "67\n",
      "68\n",
      "68_Touch_of_Evil: cannot identify image file <_io.BytesIO object at 0x000002308C880F40>\n",
      "69\n",
      "70\n",
      "70_The_Conformist_(film): cannot identify image file <_io.BytesIO object at 0x000002308C6DD090>\n",
      "71\n",
      "71_Rebecca_(1940_film): cannot identify image file <_io.BytesIO object at 0x000002308C906450>\n",
      "72\n"
     ]
    },
    {
     "name": "stderr",
     "output_type": "stream",
     "text": [
      "API error: {'code': 'invalidtitle', 'info': 'Bad title \"Rosemary%27s_Baby_(film)\".', 'docref': 'See https://en.wikipedia.org/w/api.php for API usage. Subscribe to the mediawiki-api-announce mailing list at &lt;https://lists.wikimedia.org/postorius/lists/mediawiki-api-announce.lists.wikimedia.org/&gt; for notice of API deprecations and breaking changes.'}\n"
     ]
    },
    {
     "name": "stdout",
     "output_type": "stream",
     "text": [
      "72_Rosemary%27s_Baby_(film): https://en.wikipedia.org/w/api.php?action=parse&formatversion=2&contentmodel=text&disableeditsection=&disablelimitreport=&disabletoc=&prop=text|iwlinks|parsetree|wikitext|displaytitle|properties&redirects&page=Rosemary%2527s_Baby_%28film%29\n",
      "73\n",
      "74\n",
      "74_Brooklyn_(film): cannot identify image file <_io.BytesIO object at 0x000002308C80B2C0>\n",
      "75\n",
      "75_The_Wrestler_(2008_film): cannot identify image file <_io.BytesIO object at 0x000002308C98A950>\n",
      "76\n",
      "77\n",
      "78\n",
      "78_Gone_with_the_Wind_(film): cannot identify image file <_io.BytesIO object at 0x000002308C7BEC20>\n",
      "79\n",
      "80\n",
      "81\n",
      "81_Rome,_Open_City: cannot identify image file <_io.BytesIO object at 0x000002308C8C0F90>\n",
      "82\n",
      "82_Tokyo_Story: cannot identify image file <_io.BytesIO object at 0x000002308C6E1EA0>\n",
      "83\n",
      "84\n",
      "85\n",
      "86\n",
      "87\n",
      "88\n",
      "88_High_Noon: cannot identify image file <_io.BytesIO object at 0x000002308C89F270>\n",
      "89\n",
      "90\n",
      "90_On_the_Waterfront: cannot identify image file <_io.BytesIO object at 0x000002308CA62EA0>\n",
      "91\n",
      "91_The_Wages_of_Fear: cannot identify image file <_io.BytesIO object at 0x000002308CB06130>\n",
      "92\n",
      "93\n",
      "94\n",
      "94_The_Grapes_of_Wrath_(film): cannot identify image file <_io.BytesIO object at 0x000002308C7CCCC0>\n",
      "95\n",
      "95_Roman_Holiday: cannot identify image file <_io.BytesIO object at 0x000002308C8C8F90>\n",
      "96\n",
      "96_Man_on_Wire: cannot identify image file <_io.BytesIO object at 0x000002308C811F90>\n",
      "97\n",
      "98\n",
      "99\n",
      "100\n",
      "100_Battleship_Potemkin: cannot identify image file <_io.BytesIO object at 0x000002308C8BC3B0>\n"
     ]
    }
   ],
   "source": [
    "# List of dictionaries to build and convert to a DataFrame later\n",
    "df_list = []\n",
    "image_errors = {}\n",
    "for title in title_list:\n",
    "    try:\n",
    "        # This cell is slow so print ranking to gauge time remaining\n",
    "        ranking = title_list.index(title) + 1\n",
    "        print(ranking)\n",
    "        page = wptools.page(title, silent=True)\n",
    "        # Your code here (three lines)\n",
    "        images = page.get().data['image']\n",
    "        # First image is usually the poster\n",
    "        first_image_url = images[0]['url']\n",
    "        r = requests.get(first_image_url)\n",
    "        # Download movie poster image\n",
    "        i = Image.open(BytesIO(r.content))\n",
    "        image_file_format = first_image_url.split('.')[-1]\n",
    "        i.save(folder_name + \"/\" + str(ranking) + \"_\" + title + '.' + image_file_format)\n",
    "        # Append to list of dictionaries\n",
    "        df_list.append({'ranking': int(ranking),\n",
    "                        'title': title,\n",
    "                        'poster_url': first_image_url})\n",
    "    \n",
    "    # Not best practice to catch all exceptions but fine for this short script\n",
    "    except Exception as e:\n",
    "        print(str(ranking) + \"_\" + title + \": \" + str(e))\n",
    "        image_errors[str(ranking) + \"_\" + title] = images"
   ]
  },
  {
   "cell_type": "code",
   "execution_count": 11,
   "metadata": {},
   "outputs": [
    {
     "data": {
      "text/plain": [
       "dict_keys(['3_The_Third_Man', '6_The_Cabinet_of_Dr._Caligari', '7_All_About_Eve', '10_Metropolis_(1927_film)', '12_Modern_Times_(film)', '13_It_Happened_One_Night', \"14_Singin'_in_the_Rain\", '15_Boyhood_(film)', '18_Psycho_(1960_film)', '19_Laura_(1944_film)', '20_Nosferatu', '22_A_Hard_Day%27s_Night_(film)', '23_La_Grande_Illusion', '24_North_by_Northwest', '27_The_Maltese_Falcon_(1941_film)', '31_Sunset_Boulevard_(film)', '32_King_Kong_(1933_film)', '34_The_Adventures_of_Robin_Hood', '35_Rashomon', '36_Rear_Window', '43_Bride_of_Frankenstein', '45_M_(1931_film)', '47_The_Philadelphia_Story_(film)', '48_Alien_(film)', '50_Seven_Samurai', '51_The_Treasure_of_the_Sierra_Madre_(film)', '53_12_Angry_Men_(1957_film)', '54_The_400_Blows', '56_All_Quiet_on_the_Western_Front_(1930_film)', '60_A_Streetcar_Named_Desire_(1951_film)', '61_The_Night_of_the_Hunter_(film)', '64_Dr._Strangelove', '65_Frankenstein_(1931_film)', '66_Vertigo_(film)', '68_Touch_of_Evil', '70_The_Conformist_(film)', '71_Rebecca_(1940_film)', '72_Rosemary%27s_Baby_(film)', '74_Brooklyn_(film)', '75_The_Wrestler_(2008_film)', '78_Gone_with_the_Wind_(film)', '81_Rome,_Open_City', '82_Tokyo_Story', '88_High_Noon', '90_On_the_Waterfront', '91_The_Wages_of_Fear', '94_The_Grapes_of_Wrath_(film)', '95_Roman_Holiday', '96_Man_on_Wire', '100_Battleship_Potemkin'])"
      ]
     },
     "execution_count": 11,
     "metadata": {},
     "output_type": "execute_result"
    }
   ],
   "source": [
    "image_errors.keys()"
   ]
  },
  {
   "cell_type": "code",
   "execution_count": 20,
   "metadata": {},
   "outputs": [
    {
     "ename": "ValueError",
     "evalue": "too many values to unpack (expected 2)",
     "output_type": "error",
     "traceback": [
      "\u001b[1;31m---------------------------------------------------------------------------\u001b[0m",
      "\u001b[1;31mValueError\u001b[0m                                Traceback (most recent call last)",
      "\u001b[1;32mc:\\Users\\user\\Documents\\Projects\\ALX\\Download Pics\\image_download.ipynb Cell 6\u001b[0m in \u001b[0;36m<cell line: 2>\u001b[1;34m()\u001b[0m\n\u001b[0;32m      <a href='vscode-notebook-cell:/c%3A/Users/user/Documents/Projects/ALX/Download%20Pics/image_download.ipynb#W5sZmlsZQ%3D%3D?line=0'>1</a>\u001b[0m \u001b[39m# Inspect unidentifiable images and download them individually\u001b[39;00m\n\u001b[1;32m----> <a href='vscode-notebook-cell:/c%3A/Users/user/Documents/Projects/ALX/Download%20Pics/image_download.ipynb#W5sZmlsZQ%3D%3D?line=1'>2</a>\u001b[0m \u001b[39mfor\u001b[39;00m rank_title, images \u001b[39min\u001b[39;00m image_errors\u001b[39m.\u001b[39mkeys():\n\u001b[0;32m      <a href='vscode-notebook-cell:/c%3A/Users/user/Documents/Projects/ALX/Download%20Pics/image_download.ipynb#W5sZmlsZQ%3D%3D?line=2'>3</a>\u001b[0m     \u001b[39mif\u001b[39;00m rank_title \u001b[39m==\u001b[39m \u001b[39m'\u001b[39m\u001b[39m22_A_Hard_Day\u001b[39m\u001b[39m%27s\u001b[39;00m\u001b[39m_Night_(film)\u001b[39m\u001b[39m'\u001b[39m:\n\u001b[0;32m      <a href='vscode-notebook-cell:/c%3A/Users/user/Documents/Projects/ALX/Download%20Pics/image_download.ipynb#W5sZmlsZQ%3D%3D?line=3'>4</a>\u001b[0m         url \u001b[39m=\u001b[39m \u001b[39m'\u001b[39m\u001b[39mhttps://upload.wikimedia.org/wikipedia/en/4/47/A_Hard_Days_night_movieposter.jpg\u001b[39m\u001b[39m'\u001b[39m\n",
      "\u001b[1;31mValueError\u001b[0m: too many values to unpack (expected 2)"
     ]
    }
   ],
   "source": [
    "# Inspect unidentifiable images and download them individually\n",
    "for rank_title, images in image_errors.keys():\n",
    "    if rank_title == '22_A_Hard_Day%27s_Night_(film)':\n",
    "        url = 'https://upload.wikimedia.org/wikipedia/en/4/47/A_Hard_Days_night_movieposter.jpg'\n",
    "    if rank_title == '53_12_Angry_Men_(1957_film)':\n",
    "        url = 'https://upload.wikimedia.org/wikipedia/en/9/91/12_angry_men.jpg'\n",
    "    if rank_title == '72_Rosemary%27s_Baby_(film)':\n",
    "        url = 'https://upload.wikimedia.org/wikipedia/en/e/ef/Rosemarys_baby_poster.jpg'\n",
    "    if rank_title == '93_Harry_Potter_and_the_Deathly_Hallows_–_Part_2':\n",
    "        url = 'https://upload.wikimedia.org/wikipedia/en/d/df/Harry_Potter_and_the_Deathly_Hallows_%E2%80%93_Part_2.jpg'\n",
    "    title = rank_title[3:]\n",
    "    df_list.append({'ranking': int(title_list.index(title) + 1),\n",
    "                    'title': title,\n",
    "                    'poster_url': url})\n",
    "    r = requests.get(url)\n",
    "    # Download movie poster image\n",
    "    i = Image.open(BytesIO(r.content))\n",
    "    image_file_format = url.split('.')[-1]\n",
    "    i.save(folder_name + \"/\" + rank_title + '.' + image_file_format)\n",
    "        "
   ]
  },
  {
   "cell_type": "code",
   "execution_count": 16,
   "metadata": {},
   "outputs": [],
   "source": [
    "  # Create DataFrame from list of dictionaries\n",
    "df = pd.DataFrame(df_list, columns = ['ranking', 'title', 'poster_url'])\n",
    "df = df.sort_values('ranking').reset_index(drop=True)\n",
    "df.to_csv('bestofrt_master.csv', index=False)"
   ]
  },
  {
   "cell_type": "code",
   "execution_count": 18,
   "metadata": {},
   "outputs": [
    {
     "data": {
      "text/plain": [
       "(50, 3)"
      ]
     },
     "execution_count": 18,
     "metadata": {},
     "output_type": "execute_result"
    }
   ],
   "source": [
    "df.shape"
   ]
  }
 ],
 "metadata": {
  "kernelspec": {
   "display_name": "Python 3.9.12 ('base')",
   "language": "python",
   "name": "python3"
  },
  "language_info": {
   "codemirror_mode": {
    "name": "ipython",
    "version": 3
   },
   "file_extension": ".py",
   "mimetype": "text/x-python",
   "name": "python",
   "nbconvert_exporter": "python",
   "pygments_lexer": "ipython3",
   "version": "3.9.12"
  },
  "orig_nbformat": 4,
  "vscode": {
   "interpreter": {
    "hash": "a077222d77dfe082b8f1dd562ad70e458ac2ab76993a0b248ab0476e32e9e8dd"
   }
  }
 },
 "nbformat": 4,
 "nbformat_minor": 2
}
